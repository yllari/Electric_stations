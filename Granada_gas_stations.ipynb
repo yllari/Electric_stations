{
  "nbformat": 4,
  "nbformat_minor": 0,
  "metadata": {
    "colab": {
      "provenance": [],
      "toc_visible": true,
      "authorship_tag": "ABX9TyOJWAYwB8UvpqLpGeNe3hSJ",
      "include_colab_link": true
    },
    "kernelspec": {
      "name": "python3",
      "display_name": "Python 3"
    },
    "language_info": {
      "name": "python"
    }
  },
  "cells": [
    {
      "cell_type": "markdown",
      "metadata": {
        "id": "view-in-github",
        "colab_type": "text"
      },
      "source": [
        "<a href=\"https://colab.research.google.com/github/yllari/Electric_stations/blob/main/Granada_gas_stations.ipynb\" target=\"_parent\"><img src=\"https://colab.research.google.com/assets/colab-badge.svg\" alt=\"Open In Colab\"/></a>"
      ]
    },
    {
      "cell_type": "markdown",
      "source": [
        "The resulting maps are in \"1.3. Map and driving distances\" and \"2. A more populated solution\""
      ],
      "metadata": {
        "id": "iXGg9ZRXtOW0"
      }
    },
    {
      "cell_type": "markdown",
      "source": [
        "# 1. First approach, minimal"
      ],
      "metadata": {
        "id": "-wmpDMoZdpeu"
      }
    },
    {
      "cell_type": "markdown",
      "source": [
        "All the steps taken will try to fulfill the following conditions:\n",
        "\n",
        "\n",
        "1.   Electric charging stations at less than 2 km of a highway\n",
        "2.   No more than 50 km between stations\n",
        "3.   Web-like structure (a network)\n"
      ],
      "metadata": {
        "id": "uOg4j1F5jPCs"
      }
    },
    {
      "cell_type": "markdown",
      "source": [
        "## 1.1.Data preprocessing"
      ],
      "metadata": {
        "id": "tlIANie4duW6"
      }
    },
    {
      "cell_type": "code",
      "execution_count": 196,
      "metadata": {
        "id": "u4Y1U9xb_-dL"
      },
      "outputs": [],
      "source": [
        "!pip install -qq overpy\n",
        "import overpy"
      ]
    },
    {
      "cell_type": "markdown",
      "source": [
        "Using [Overpass API](https://wiki.openstreetmap.org/wiki/Overpass_API) to query locations that fulfill the given conditions.\n",
        "In this case, the query is limited to only gas stations because there are more than enough to create the network and they already possess the desired infrastructure (enough space to park cars, etc). If needed, the query could be changed to include as many other locations as wanted."
      ],
      "metadata": {
        "id": "GNNljMQEhCLb"
      }
    },
    {
      "cell_type": "code",
      "source": [
        "api = overpy.Overpass()\n",
        "\n",
        "# Query for all gas stations that are at less than road_distance=2km\n",
        "# From a road classified as \"autovía\" (i.e motorway) in location=Granada\n",
        "# Some other options for locations=\"Albacete, Galicia, Sevilla\"\n",
        "\n",
        "location = \"Granada\"\n",
        "road_distance = \"2000\"  # (m)\n",
        "\n",
        "response = api.query(\"\"\"\n",
        "[out:json];\n",
        "area[name=\"\"\" + location + \"\"\"]->.granada;\n",
        "way[highway=\"motorway\"](area.granada)->.roads;\n",
        "nwr[amenity=\"fuel\"](around.roads:\"\"\" + road_distance + \"\"\");\n",
        "out center;\"\"\")"
      ],
      "metadata": {
        "id": "bBeZAYgGADT2"
      },
      "execution_count": 197,
      "outputs": []
    },
    {
      "cell_type": "code",
      "source": [
        "import pandas as pd"
      ],
      "metadata": {
        "id": "Re8i6nwCAEAy"
      },
      "execution_count": 198,
      "outputs": []
    },
    {
      "cell_type": "code",
      "source": [
        "# Preparing the dataframe [id,latitude,longitude]\n",
        "df = pd.DataFrame(\n",
        "    columns=[\"id\",\"lat\",\"lon\"])\n",
        "\n",
        "for node in response.get_nodes():\n",
        "    # Adding all the position information of nodes\n",
        "    new_row = pd.DataFrame(\n",
        "        {\"id\": node.id,\n",
        "         \"lat\": node.lat,\n",
        "         \"lon\": node.lon},\n",
        "         index=[0])\n",
        "\n",
        "    df = pd.concat([df,new_row],axis=0)\n",
        "\n",
        "for way in response.get_ways():\n",
        "    # Adding all the position information of ways\n",
        "    new_row = pd.DataFrame(\n",
        "        {\"id\": way.id,\n",
        "         \"lat\": way.center_lat,\n",
        "         \"lon\": way.center_lon},\n",
        "         index=[0])\n",
        "\n",
        "    df = pd.concat([df,new_row])\n",
        "\n",
        "# Formatted information into a DataFrame, only for convenience\n",
        "df.reset_index(inplace=True, drop=True)\n",
        "print(df)"
      ],
      "metadata": {
        "colab": {
          "base_uri": "https://localhost:8080/"
        },
        "id": "XKi9abgfAGrA",
        "outputId": "3555f757-c956-404c-b684-b85a710cb22c"
      },
      "execution_count": 199,
      "outputs": [
        {
          "output_type": "stream",
          "name": "stdout",
          "text": [
            "             id         lat         lon\n",
            "0     251397642  37.1644508  -4.1684253\n",
            "1     287007285  37.6467500  -2.0704000\n",
            "2     287007637  37.5848967  -2.5830963\n",
            "3     287007907  37.5957780  -2.4003890\n",
            "4     287007967  37.4936930  -2.7751030\n",
            "..          ...         ...         ...\n",
            "189  1115340429  37.1543575  -3.6105574\n",
            "190  1142220320  37.1216287  -3.6313156\n",
            "191  1147915982  36.9494237  -3.5517101\n",
            "192  1161327227  37.0282728  -3.6362339\n",
            "193  1202820177  36.6989379  -3.4464416\n",
            "\n",
            "[194 rows x 3 columns]\n"
          ]
        }
      ]
    },
    {
      "cell_type": "code",
      "source": [
        "import matplotlib.pyplot as plt"
      ],
      "metadata": {
        "id": "HUZ4FneIAKuQ"
      },
      "execution_count": 200,
      "outputs": []
    },
    {
      "cell_type": "code",
      "source": [
        "plt.scatter(x=df[\"lon\"],y=df[\"lat\"], s=0.5)\n",
        "plt.xlabel(\"lon\")\n",
        "plt.ylabel(\"lat\")\n",
        "print(\"Number of detected gas stations:\", len(df.index))"
      ],
      "metadata": {
        "colab": {
          "base_uri": "https://localhost:8080/",
          "height": 72
        },
        "id": "iBk7o1rHAJFc",
        "outputId": "77df590c-d4a3-4988-f9c0-dd626bef8f92"
      },
      "execution_count": 201,
      "outputs": [
        {
          "output_type": "stream",
          "name": "stdout",
          "text": [
            "Number of detected gas stations: 194\n"
          ]
        },
        {
          "output_type": "display_data",
          "data": {
            "text/plain": [
              "<Figure size 640x480 with 1 Axes>"
            ],
            "image/png": "[encoded data removed]"
          },
          "metadata": {}
        }
      ]
    },
    {
      "cell_type": "markdown",
      "source": [
        "## 1.2.Algorithm"
      ],
      "metadata": {
        "id": "PyxD_Ly-dyzY"
      }
    },
    {
      "cell_type": "code",
      "source": [
        "!pip install sklearn"
      ],
      "metadata": {
        "colab": {
          "base_uri": "https://localhost:8080/"
        },
        "id": "1Lier00EARt-",
        "outputId": "7b65c251-d603-453b-8809-d5e2e3cbb118"
      },
      "execution_count": 202,
      "outputs": [
        {
          "output_type": "stream",
          "name": "stdout",
          "text": [
            "Requirement already satisfied: sklearn in /usr/local/lib/python3.10/dist-packages (0.0.post9)\n"
          ]
        }
      ]
    },
    {
      "cell_type": "code",
      "source": [
        "import numpy as np\n",
        "from sklearn.metrics.pairwise import haversine_distances\n",
        "from math import radians"
      ],
      "metadata": {
        "id": "QYNuBYsAANqB"
      },
      "execution_count": 203,
      "outputs": []
    },
    {
      "cell_type": "code",
      "source": [
        "##\n",
        "# dist_matrix(DataFrame : df)\n",
        "# Estimate of distance between points on the surface of earth\n",
        "##\n",
        "def dist_matrix(df):\n",
        "    earth_radius = 6371.0 #(km)\n",
        "\n",
        "    converted = np.array([df[\"lat\"].tolist(),df[\"lon\"].tolist()],dtype=float)\n",
        "    converted = np.deg2rad(converted.T)\n",
        "\n",
        "    # This (ideally) would be a driving-distance using OSRM API, but setting up\n",
        "    # the server would be time-consuming.\n",
        "    # For simplicity, haversine distance (distance on a sphere) is used\n",
        "    dist = haversine_distances(converted)\n",
        "    return dist*earth_radius"
      ],
      "metadata": {
        "id": "7DY-ed4xAPpq"
      },
      "execution_count": 204,
      "outputs": []
    },
    {
      "cell_type": "markdown",
      "source": [
        "Explanation of the algorithm:\n",
        "Given a node, in this case a gas station $n_2$, check the two closest stations $n_1$ and $n_3$. These two points will be at a distance $d_{13}\\equiv|n_1-n_3|$ with \"$||$\", whatever distance is used, such that\n",
        "$d_{12}+d_{23}\\geq d_{13}$ (Triangle inequality). Hence, 50 km>$d_{12}+d_{23}\\implies$ 50 km $>d_{13}$. Then, we can surely erase that point without compromising the connection between those other stations. If instead of using 50 km we start with a smaller value and then increment it until we hit a threshold, we will eventually get a better, more evenly space map (the clumped stations will be erased first, then the further ones...)\n"
      ],
      "metadata": {
        "id": "IfkSce91javw"
      }
    },
    {
      "cell_type": "markdown",
      "source": [
        "<figure>\n",
        "<center>\n",
        "<img src=\"https://drive.google.com/uc?export=view&id=17VWBQS5eAU8XbsQT3zslOr-mx2KHsy8M\n",
        "\" alt=\"Distances diagram\" width=\"200px\">\n",
        "</center>\n",
        "</figure>\n",
        "\n"
      ],
      "metadata": {
        "id": "BxV_yu0uUC-o"
      }
    },
    {
      "cell_type": "markdown",
      "source": [
        "Put in simpler terms, we eliminate all possible points without disturbing the direct connection between all other gas stations (no larger distances than 50km). Thus, the result is an interconnected network structure that reduces the number of intermediate points (gas stations).\n",
        "\n",
        "Of course, this is only possible if at first they were already \"connected\"."
      ],
      "metadata": {
        "id": "BP6ErKf9OcLt"
      }
    },
    {
      "cell_type": "code",
      "source": [
        "# Create copies to isolate this notebook cell\n",
        "# Sampling to find different solutions depending seed, \"random_state\" is the seed\n",
        "try_df = df.copy().sample(frac=1, random_state=44).reset_index(inplace=False,drop=True)\n",
        "distances = dist_matrix(try_df)\n",
        "\n",
        "# i will be a local counter, j will keep up with the DataFrame index\n",
        "i=j=0\n",
        "maxiter = len(distances)\n",
        "\n",
        "# Control how limiting \"limit\" should be (smaller => stricter => more points)\n",
        "# Since drive-distance >= haversine-distance, it is recommended to give some\n",
        "# margin [0.,1.]\n",
        "margin_factor = 1.\n",
        "\n",
        "# maximum distance between gas stations\n",
        "limit_radius = 50 #(km)\n",
        "\n",
        "# Number of iterations, from 0.01 to margin_factor, \"num_iters\" steps\n",
        "num_iters = 30\n",
        "\n",
        "# Effective maximum distance\n",
        "# Might need some tweaking, will depend of highway distances covered\n",
        "# in the area\n",
        "limit = limit_radius*margin_factor\n",
        "\n",
        "# Iterate from smaller distances to larger\n",
        "# Will create better and more evenly spaced maps\n",
        "\n",
        "\n",
        "for m in np.linspace(0.01, margin_factor, num=num_iters):\n",
        "  limit = m*limit_radius\n",
        "\n",
        "  i=j=0\n",
        "  maxiter = len(distances)\n",
        "  try_df.reset_index(inplace=True, drop=True)\n",
        "\n",
        "  while j < maxiter:\n",
        "    # Checking (locally) if the distance between the two nearest points would be\n",
        "    # Less than \"limit\" kms at max if the checked point is erased\n",
        "    # If so, erase it from both DataFrame and matrix\n",
        "    dist_mins = np.sort(distances[i])\n",
        "    if ( (dist_mins[1] + dist_mins[2]) < limit):\n",
        "      distances = np.delete(distances, i, axis=0)\n",
        "      distances = np.delete(distances, i, axis=1)\n",
        "      try_df.drop(j, inplace=True)\n",
        "    else:\n",
        "      i+=1\n",
        "    j+=1\n",
        "\n",
        "print(\"Resulting points: \", len(try_df.index))\n",
        "print(f\"All minimum haversine distances (strictly ≤{limit} km): \")\n",
        "print(np.sort(distances)[:,1])"
      ],
      "metadata": {
        "colab": {
          "base_uri": "https://localhost:8080/"
        },
        "id": "WFLG5F1pMsiX",
        "outputId": "f62aa448-60b7-40b8-d8b6-52ee8c6bc3ab"
      },
      "execution_count": 205,
      "outputs": [
        {
          "output_type": "stream",
          "name": "stdout",
          "text": [
            "Resulting points:  12\n",
            "All minimum haversine distances (strictly ≤50.0 km): \n",
            "[27.77128489 37.90391819 27.77128489 29.94687323 29.94687323 33.15678758\n",
            " 20.23132913 20.23132913 30.62161742 29.40782413 33.47599221 48.5406695 ]\n"
          ]
        }
      ]
    },
    {
      "cell_type": "code",
      "source": [
        "!pip install -qq folium"
      ],
      "metadata": {
        "id": "5KBFeSMyYKdK"
      },
      "execution_count": 206,
      "outputs": []
    },
    {
      "cell_type": "markdown",
      "source": [
        "## 1.3.Map and driving distances"
      ],
      "metadata": {
        "id": "FuPSRXwMd4s3"
      }
    },
    {
      "cell_type": "markdown",
      "source": [
        "As shown in the map, using \"margin_limit=1.\" gives a network with much space between stations. This is an approach for a minimal, yet web-like, solution."
      ],
      "metadata": {
        "id": "ls4zd7pQeCfA"
      }
    },
    {
      "cell_type": "code",
      "source": [
        "import folium\n",
        "\n",
        "def map_show(data : pd.DataFrame, loc_coords):\n",
        "\n",
        "  # Create a map centered on loc_coords [latitude, longitude]\n",
        "  map = folium.Map(location=loc_coords, zoom_start=8)\n",
        "\n",
        "  # Loop through the data and add markers for each location\n",
        "  for i, row in data.iterrows():\n",
        "      folium.Marker([row['lat'], row['lon']],\n",
        "                    popup=row['id']).add_to(map)\n",
        "  return map\n",
        "\n",
        "# Show the map\n",
        "granada_map = map_show(try_df, loc_coords=[np.mean(try_df[\"lat\"]), np.mean(try_df[\"lon\"])])\n",
        "granada_map"
      ],
      "metadata": {
        "colab": {
          "base_uri": "https://localhost:8080/",
          "height": 590
        },
        "id": "WdqqbbWtX2J6",
        "outputId": "e91e388d-2f49-4c05-f9c2-60bef990ce0e"
      },
      "execution_count": 207,
      "outputs": [
        {
          "output_type": "execute_result",
          "data": {
            "text/plain": [
              "<folium.folium.Map at 0x7866bc24cb20>"
            ],
            "text/html": [
              "<div style=\"width:100%;\"><div style=\"position:relative;width:100%;height:0;padding-bottom:60%;\"><span style=\"color:#565656\">Make this Notebook Trusted to load map: File -> Trust Notebook</span><iframe srcdoc=\"&lt;!DOCTYPE html&gt;\n",
              "&lt;html&gt;\n",
              "&lt;head&gt;\n",
              "    \n",
              "    &lt;meta http-equiv=&quot;content-type&quot; content=&quot;text/html; charset=UTF-8&quot; /&gt;\n",
              "    \n",
              "        &lt;script&gt;\n",
              "            L_NO_TOUCH = false;\n",
              "            L_DISABLE_3D = false;\n",
              "        &lt;/script&gt;\n",
              "    \n",
              "    &lt;style&gt;html, body {width: 100%;height: 100%;margin: 0;padding: 0;}&lt;/style&gt;\n",
              "    &lt;style&gt;#map {position:absolute;top:0;bottom:0;right:0;left:0;}&lt;/style&gt;\n",
              "    &lt;script src=&quot;https://cdn.jsdelivr.net/npm/leaflet@1.9.3/dist/leaflet.js&quot;&gt;&lt;/script&gt;\n",
              "    &lt;script src=&quot;https://code.jquery.com/jquery-1.12.4.min.js&quot;&gt;&lt;/script&gt;\n",
              "    &lt;script src=&quot;https://cdn.jsdelivr.net/npm/bootstrap@5.2.2/dist/js/bootstrap.bundle.min.js&quot;&gt;&lt;/script&gt;\n",
              "    &lt;script src=&quot;https://cdnjs.cloudflare.com/ajax/libs/Leaflet.awesome-markers/2.0.2/leaflet.awesome-markers.js&quot;&gt;&lt;/script&gt;\n",
              "    &lt;link rel=&quot;stylesheet&quot; href=&quot;https://cdn.jsdelivr.net/npm/leaflet@1.9.3/dist/leaflet.css&quot;/&gt;\n",
              "    &lt;link rel=&quot;stylesheet&quot; href=&quot;https://cdn.jsdelivr.net/npm/bootstrap@5.2.2/dist/css/bootstrap.min.css&quot;/&gt;\n",
              "    &lt;link rel=&quot;stylesheet&quot; href=&quot;https://netdna.bootstrapcdn.com/bootstrap/3.0.0/css/bootstrap.min.css&quot;/&gt;\n",
              "    &lt;link rel=&quot;stylesheet&quot; href=&quot;https://cdn.jsdelivr.net/npm/@fortawesome/fontawesome-free@6.2.0/css/all.min.css&quot;/&gt;\n",
              "    &lt;link rel=&quot;stylesheet&quot; href=&quot;https://cdnjs.cloudflare.com/ajax/libs/Leaflet.awesome-markers/2.0.2/leaflet.awesome-markers.css&quot;/&gt;\n",
              "    &lt;link rel=&quot;stylesheet&quot; href=&quot;https://cdn.jsdelivr.net/gh/python-visualization/folium/folium/templates/leaflet.awesome.rotate.min.css&quot;/&gt;\n",
              "    \n",
              "            &lt;meta name=&quot;viewport&quot; content=&quot;width=device-width,\n",
              "                initial-scale=1.0, maximum-scale=1.0, user-scalable=no&quot; /&gt;\n",
              "            &lt;style&gt;\n",
              "                #map_320cf563b8fc3132d09b97e97da759f1 {\n",
              "                    position: relative;\n",
              "                    width: 100.0%;\n",
              "                    height: 100.0%;\n",
              "                    left: 0.0%;\n",
              "                    top: 0.0%;\n",
              "                }\n",
              "                .leaflet-container { font-size: 1rem; }\n",
              "            &lt;/style&gt;\n",
              "        \n",
              "&lt;/head&gt;\n",
              "&lt;body&gt;\n",
              "    \n",
              "    \n",
              "            &lt;div class=&quot;folium-map&quot; id=&quot;map_320cf563b8fc3132d09b97e97da759f1&quot; &gt;&lt;/div&gt;\n",
              "        \n",
              "&lt;/body&gt;\n",
              "&lt;script&gt;\n",
              "    \n",
              "    \n",
              "            var map_320cf563b8fc3132d09b97e97da759f1 = L.map(\n",
              "                &quot;map_320cf563b8fc3132d09b97e97da759f1&quot;,\n",
              "                {\n",
              "                    center: [37.19850075833333, -3.315395908333333],\n",
              "                    crs: L.CRS.EPSG3857,\n",
              "                    zoom: 8,\n",
              "                    zoomControl: true,\n",
              "                    preferCanvas: false,\n",
              "                }\n",
              "            );\n",
              "\n",
              "            \n",
              "\n",
              "        \n",
              "    \n",
              "            var tile_layer_86d9b6791112287778b0abb55947d315 = L.tileLayer(\n",
              "                &quot;https://{s}.tile.openstreetmap.org/{z}/{x}/{y}.png&quot;,\n",
              "                {&quot;attribution&quot;: &quot;Data by \\u0026copy; \\u003ca target=\\&quot;_blank\\&quot; href=\\&quot;http://openstreetmap.org\\&quot;\\u003eOpenStreetMap\\u003c/a\\u003e, under \\u003ca target=\\&quot;_blank\\&quot; href=\\&quot;http://www.openstreetmap.org/copyright\\&quot;\\u003eODbL\\u003c/a\\u003e.&quot;, &quot;detectRetina&quot;: false, &quot;maxNativeZoom&quot;: 18, &quot;maxZoom&quot;: 18, &quot;minZoom&quot;: 0, &quot;noWrap&quot;: false, &quot;opacity&quot;: 1, &quot;subdomains&quot;: &quot;abc&quot;, &quot;tms&quot;: false}\n",
              "            ).addTo(map_320cf563b8fc3132d09b97e97da759f1);\n",
              "        \n",
              "    \n",
              "            var marker_27b4cd18cfd98afb9dbef67c1f03bf00 = L.marker(\n",
              "                [37.4335891, -2.9055092],\n",
              "                {}\n",
              "            ).addTo(map_320cf563b8fc3132d09b97e97da759f1);\n",
              "        \n",
              "    \n",
              "        var popup_a802639203c6def7295cb4246b897e76 = L.popup({&quot;maxWidth&quot;: &quot;100%&quot;});\n",
              "\n",
              "        \n",
              "            \n",
              "                var html_36923a2d850d6b8bcbd9526730f73c69 = $(`&lt;div id=&quot;html_36923a2d850d6b8bcbd9526730f73c69&quot; style=&quot;width: 100.0%; height: 100.0%;&quot;&gt;858524307&lt;/div&gt;`)[0];\n",
              "                popup_a802639203c6def7295cb4246b897e76.setContent(html_36923a2d850d6b8bcbd9526730f73c69);\n",
              "            \n",
              "        \n",
              "\n",
              "        marker_27b4cd18cfd98afb9dbef67c1f03bf00.bindPopup(popup_a802639203c6def7295cb4246b897e76)\n",
              "        ;\n",
              "\n",
              "        \n",
              "    \n",
              "    \n",
              "            var marker_2563a3a9df271af390fe17ce41ea5adf = L.marker(\n",
              "                [37.5298689, -3.6375848],\n",
              "                {}\n",
              "            ).addTo(map_320cf563b8fc3132d09b97e97da759f1);\n",
              "        \n",
              "    \n",
              "        var popup_412f78f61463d81f25e4353bbce539a7 = L.popup({&quot;maxWidth&quot;: &quot;100%&quot;});\n",
              "\n",
              "        \n",
              "            \n",
              "                var html_b964e7177afbd8ab5185249ea960a1e9 = $(`&lt;div id=&quot;html_b964e7177afbd8ab5185249ea960a1e9&quot; style=&quot;width: 100.0%; height: 100.0%;&quot;&gt;675359891&lt;/div&gt;`)[0];\n",
              "                popup_412f78f61463d81f25e4353bbce539a7.setContent(html_b964e7177afbd8ab5185249ea960a1e9);\n",
              "            \n",
              "        \n",
              "\n",
              "        marker_2563a3a9df271af390fe17ce41ea5adf.bindPopup(popup_412f78f61463d81f25e4353bbce539a7)\n",
              "        ;\n",
              "\n",
              "        \n",
              "    \n",
              "    \n",
              "            var marker_48af4a67ff3eeac0ce7c2ef06b4ffa18 = L.marker(\n",
              "                [37.1874677, -2.9588649],\n",
              "                {}\n",
              "            ).addTo(map_320cf563b8fc3132d09b97e97da759f1);\n",
              "        \n",
              "    \n",
              "        var popup_c42378280bdf98871456252f7f61b2c9 = L.popup({&quot;maxWidth&quot;: &quot;100%&quot;});\n",
              "\n",
              "        \n",
              "            \n",
              "                var html_762b643efbdf4a887bcdda8aa03e40cb = $(`&lt;div id=&quot;html_762b643efbdf4a887bcdda8aa03e40cb&quot; style=&quot;width: 100.0%; height: 100.0%;&quot;&gt;287008183&lt;/div&gt;`)[0];\n",
              "                popup_c42378280bdf98871456252f7f61b2c9.setContent(html_762b643efbdf4a887bcdda8aa03e40cb);\n",
              "            \n",
              "        \n",
              "\n",
              "        marker_48af4a67ff3eeac0ce7c2ef06b4ffa18.bindPopup(popup_c42378280bdf98871456252f7f61b2c9)\n",
              "        ;\n",
              "\n",
              "        \n",
              "    \n",
              "    \n",
              "            var marker_9339162ae73844e836220a339af25a69 = L.marker(\n",
              "                [37.133278, -4.284778],\n",
              "                {}\n",
              "            ).addTo(map_320cf563b8fc3132d09b97e97da759f1);\n",
              "        \n",
              "    \n",
              "        var popup_12e3800bee1742002c2f10f436a9da8c = L.popup({&quot;maxWidth&quot;: &quot;100%&quot;});\n",
              "\n",
              "        \n",
              "            \n",
              "                var html_6066e35ffed9b116845cf002eaf048b1 = $(`&lt;div id=&quot;html_6066e35ffed9b116845cf002eaf048b1&quot; style=&quot;width: 100.0%; height: 100.0%;&quot;&gt;839480079&lt;/div&gt;`)[0];\n",
              "                popup_12e3800bee1742002c2f10f436a9da8c.setContent(html_6066e35ffed9b116845cf002eaf048b1);\n",
              "            \n",
              "        \n",
              "\n",
              "        marker_9339162ae73844e836220a339af25a69.bindPopup(popup_12e3800bee1742002c2f10f436a9da8c)\n",
              "        ;\n",
              "\n",
              "        \n",
              "    \n",
              "    \n",
              "            var marker_c6145f8b7270c7eb6d6b9879aa4f3c5a = L.marker(\n",
              "                [37.1825378, -3.9525518],\n",
              "                {}\n",
              "            ).addTo(map_320cf563b8fc3132d09b97e97da759f1);\n",
              "        \n",
              "    \n",
              "        var popup_8aee676b361e8571aff45e479db01dda = L.popup({&quot;maxWidth&quot;: &quot;100%&quot;});\n",
              "\n",
              "        \n",
              "            \n",
              "                var html_40ea6fceba1ac3c49dc93a3dc143ac7b = $(`&lt;div id=&quot;html_40ea6fceba1ac3c49dc93a3dc143ac7b&quot; style=&quot;width: 100.0%; height: 100.0%;&quot;&gt;4471153891&lt;/div&gt;`)[0];\n",
              "                popup_8aee676b361e8571aff45e479db01dda.setContent(html_40ea6fceba1ac3c49dc93a3dc143ac7b);\n",
              "            \n",
              "        \n",
              "\n",
              "        marker_c6145f8b7270c7eb6d6b9879aa4f3c5a.bindPopup(popup_8aee676b361e8571aff45e479db01dda)\n",
              "        ;\n",
              "\n",
              "        \n",
              "    \n",
              "    \n",
              "            var marker_74c42ac08da4dc0870e7fd2168d24bae = L.marker(\n",
              "                [36.751965, -3.169347],\n",
              "                {}\n",
              "            ).addTo(map_320cf563b8fc3132d09b97e97da759f1);\n",
              "        \n",
              "    \n",
              "        var popup_8b10c3064905c7061b1f750e8b90b677 = L.popup({&quot;maxWidth&quot;: &quot;100%&quot;});\n",
              "\n",
              "        \n",
              "            \n",
              "                var html_955363c05093f38b170afbca1f2bf0be = $(`&lt;div id=&quot;html_955363c05093f38b170afbca1f2bf0be&quot; style=&quot;width: 100.0%; height: 100.0%;&quot;&gt;4638171093&lt;/div&gt;`)[0];\n",
              "                popup_8b10c3064905c7061b1f750e8b90b677.setContent(html_955363c05093f38b170afbca1f2bf0be);\n",
              "            \n",
              "        \n",
              "\n",
              "        marker_74c42ac08da4dc0870e7fd2168d24bae.bindPopup(popup_8b10c3064905c7061b1f750e8b90b677)\n",
              "        ;\n",
              "\n",
              "        \n",
              "    \n",
              "    \n",
              "            var marker_5316a2be338510fa9cee220d066bff1f = L.marker(\n",
              "                [36.7365569, -3.7388495],\n",
              "                {}\n",
              "            ).addTo(map_320cf563b8fc3132d09b97e97da759f1);\n",
              "        \n",
              "    \n",
              "        var popup_1a1e42978d70f5b79c871c20129aafcc = L.popup({&quot;maxWidth&quot;: &quot;100%&quot;});\n",
              "\n",
              "        \n",
              "            \n",
              "                var html_3aae4ff6a6c873220b9c9bce716439bb = $(`&lt;div id=&quot;html_3aae4ff6a6c873220b9c9bce716439bb&quot; style=&quot;width: 100.0%; height: 100.0%;&quot;&gt;287009129&lt;/div&gt;`)[0];\n",
              "                popup_1a1e42978d70f5b79c871c20129aafcc.setContent(html_3aae4ff6a6c873220b9c9bce716439bb);\n",
              "            \n",
              "        \n",
              "\n",
              "        marker_5316a2be338510fa9cee220d066bff1f.bindPopup(popup_1a1e42978d70f5b79c871c20129aafcc)\n",
              "        ;\n",
              "\n",
              "        \n",
              "    \n",
              "    \n",
              "            var marker_6a52125d15cdc61ea8887889e1abdc57 = L.marker(\n",
              "                [36.8142438, -3.5334464],\n",
              "                {}\n",
              "            ).addTo(map_320cf563b8fc3132d09b97e97da759f1);\n",
              "        \n",
              "    \n",
              "        var popup_8437994b019ab29e3d54bc57a1baca4b = L.popup({&quot;maxWidth&quot;: &quot;100%&quot;});\n",
              "\n",
              "        \n",
              "            \n",
              "                var html_a81160de2d5e35fa8ac49e5eb5d78324 = $(`&lt;div id=&quot;html_a81160de2d5e35fa8ac49e5eb5d78324&quot; style=&quot;width: 100.0%; height: 100.0%;&quot;&gt;287008531&lt;/div&gt;`)[0];\n",
              "                popup_8437994b019ab29e3d54bc57a1baca4b.setContent(html_a81160de2d5e35fa8ac49e5eb5d78324);\n",
              "            \n",
              "        \n",
              "\n",
              "        marker_6a52125d15cdc61ea8887889e1abdc57.bindPopup(popup_8437994b019ab29e3d54bc57a1baca4b)\n",
              "        ;\n",
              "\n",
              "        \n",
              "    \n",
              "    \n",
              "            var marker_72e47a3693ebede51c9d4727b5009964 = L.marker(\n",
              "                [37.0891016, -3.6276028],\n",
              "                {}\n",
              "            ).addTo(map_320cf563b8fc3132d09b97e97da759f1);\n",
              "        \n",
              "    \n",
              "        var popup_dc6771c216c12f851f2db466f0949b43 = L.popup({&quot;maxWidth&quot;: &quot;100%&quot;});\n",
              "\n",
              "        \n",
              "            \n",
              "                var html_d66c0943e8abfa9b563ab4f1fa6f7c0c = $(`&lt;div id=&quot;html_d66c0943e8abfa9b563ab4f1fa6f7c0c&quot; style=&quot;width: 100.0%; height: 100.0%;&quot;&gt;331481372&lt;/div&gt;`)[0];\n",
              "                popup_dc6771c216c12f851f2db466f0949b43.setContent(html_d66c0943e8abfa9b563ab4f1fa6f7c0c);\n",
              "            \n",
              "        \n",
              "\n",
              "        marker_72e47a3693ebede51c9d4727b5009964.bindPopup(popup_dc6771c216c12f851f2db466f0949b43)\n",
              "        ;\n",
              "\n",
              "        \n",
              "    \n",
              "    \n",
              "            var marker_04205eafa09a6b43a4dad06e4ee3ae40 = L.marker(\n",
              "                [37.5542042, -2.6088616],\n",
              "                {}\n",
              "            ).addTo(map_320cf563b8fc3132d09b97e97da759f1);\n",
              "        \n",
              "    \n",
              "        var popup_bbfee22d9feb3b1446ade147e9dad501 = L.popup({&quot;maxWidth&quot;: &quot;100%&quot;});\n",
              "\n",
              "        \n",
              "            \n",
              "                var html_89878ea80a35da9bfa1abb2cf60d9c49 = $(`&lt;div id=&quot;html_89878ea80a35da9bfa1abb2cf60d9c49&quot; style=&quot;width: 100.0%; height: 100.0%;&quot;&gt;903008479&lt;/div&gt;`)[0];\n",
              "                popup_bbfee22d9feb3b1446ade147e9dad501.setContent(html_89878ea80a35da9bfa1abb2cf60d9c49);\n",
              "            \n",
              "        \n",
              "\n",
              "        marker_04205eafa09a6b43a4dad06e4ee3ae40.bindPopup(popup_bbfee22d9feb3b1446ade147e9dad501)\n",
              "        ;\n",
              "\n",
              "        \n",
              "    \n",
              "    \n",
              "            var marker_e564b0a9883e1010b9f6a3f88d91ab29 = L.marker(\n",
              "                [37.3224461, -3.2969549],\n",
              "                {}\n",
              "            ).addTo(map_320cf563b8fc3132d09b97e97da759f1);\n",
              "        \n",
              "    \n",
              "        var popup_7f929a735299f586d22f14d5ba51c74a = L.popup({&quot;maxWidth&quot;: &quot;100%&quot;});\n",
              "\n",
              "        \n",
              "            \n",
              "                var html_1485ad0ef3be8bc0120a047fd6ec7a94 = $(`&lt;div id=&quot;html_1485ad0ef3be8bc0120a047fd6ec7a94&quot; style=&quot;width: 100.0%; height: 100.0%;&quot;&gt;287008820&lt;/div&gt;`)[0];\n",
              "                popup_7f929a735299f586d22f14d5ba51c74a.setContent(html_1485ad0ef3be8bc0120a047fd6ec7a94);\n",
              "            \n",
              "        \n",
              "\n",
              "        marker_e564b0a9883e1010b9f6a3f88d91ab29.bindPopup(popup_7f929a735299f586d22f14d5ba51c74a)\n",
              "        ;\n",
              "\n",
              "        \n",
              "    \n",
              "    \n",
              "            var marker_f509ab29ea8af3da2fb73a9362a3dd7c = L.marker(\n",
              "                [37.64675, -2.0704],\n",
              "                {}\n",
              "            ).addTo(map_320cf563b8fc3132d09b97e97da759f1);\n",
              "        \n",
              "    \n",
              "        var popup_901445ffd2d485d5f7672a879e8f27f5 = L.popup({&quot;maxWidth&quot;: &quot;100%&quot;});\n",
              "\n",
              "        \n",
              "            \n",
              "                var html_5bdae8e483373845f7e7feab0b62a24d = $(`&lt;div id=&quot;html_5bdae8e483373845f7e7feab0b62a24d&quot; style=&quot;width: 100.0%; height: 100.0%;&quot;&gt;287007285&lt;/div&gt;`)[0];\n",
              "                popup_901445ffd2d485d5f7672a879e8f27f5.setContent(html_5bdae8e483373845f7e7feab0b62a24d);\n",
              "            \n",
              "        \n",
              "\n",
              "        marker_f509ab29ea8af3da2fb73a9362a3dd7c.bindPopup(popup_901445ffd2d485d5f7672a879e8f27f5)\n",
              "        ;\n",
              "\n",
              "        \n",
              "    \n",
              "&lt;/script&gt;\n",
              "&lt;/html&gt;\" style=\"position:absolute;width:100%;height:100%;left:0;top:0;border:none !important;\" allowfullscreen webkitallowfullscreen mozallowfullscreen></iframe></div></div>"
            ]
          },
          "metadata": {},
          "execution_count": 207
        }
      ]
    },
    {
      "cell_type": "markdown",
      "source": [
        "Now that fewer points are left, it is feasible to check the driving distances with the [OSRM API](http://project-osrm.org/docs/v5.5.1/api/) demo server."
      ],
      "metadata": {
        "id": "LW7EGZcCj9Bt"
      }
    },
    {
      "cell_type": "code",
      "source": [
        "# Let's check if the criteria is met for driving distance(<50km):\n",
        "import requests\n",
        "import json"
      ],
      "metadata": {
        "id": "pD92gY0PwfCQ"
      },
      "execution_count": 208,
      "outputs": []
    },
    {
      "cell_type": "markdown",
      "source": [
        "Sending a query with the selected gas stations coordinates to OSRM API, an API desigend to calculate fastest driving distances (by car)."
      ],
      "metadata": {
        "id": "PxCvsu4pOPk6"
      }
    },
    {
      "cell_type": "code",
      "source": [
        "url = \"http://router.project-osrm.org/table/v1/driving/\"\n",
        "routes = \"\"\n",
        "\n",
        "# Query with longitude1,latitude1;longitude2,latitude2;...\n",
        "for ind in try_df.index:\n",
        "    routes += str(try_df[\"lon\"][ind])+\",\"+str(try_df[\"lat\"][ind])+\";\"\n",
        "\n",
        "routes = routes[:-1]\n",
        "\n",
        "print(\"Query: \", routes[0:50]+\"...\")\n",
        "routes_response = requests.get(url+routes+\"?annotations=distance\")"
      ],
      "metadata": {
        "colab": {
          "base_uri": "https://localhost:8080/"
        },
        "id": "t1wyNf7xwTnz",
        "outputId": "d281014b-7b21-4989-8389-ed2cbaa2bfb2"
      },
      "execution_count": 209,
      "outputs": [
        {
          "output_type": "stream",
          "name": "stdout",
          "text": [
            "Query:  -2.9055092,37.4335891;-3.6375848,37.5298689;-2.958...\n"
          ]
        }
      ]
    },
    {
      "cell_type": "code",
      "source": [
        "dist_table_json = routes_response.json()\n",
        "try:\n",
        "    dist_table=np.array(dist_table_json[\"distances\"])/1000 # meters to km\n",
        "except:\n",
        "    print(\"Too big\")\n",
        "\n",
        "print(f\"All minimum driving distances, should be approximately ≲{limit}: \",)\n",
        "print(np.sort(dist_table)[:,1])\n",
        "print(\"\\nThere may be some driving distances exceeding the limit of \"\n",
        "      + f\"{limit_radius} km, \\n\"\n",
        "      + \" this would not happen if all previous calculations were made with\"\n",
        "      + \" this distance\")"
      ],
      "metadata": {
        "colab": {
          "base_uri": "https://localhost:8080/"
        },
        "id": "6reHtTzBwy1N",
        "outputId": "6c555da7-2dbd-4a22-c4c8-f57c23a1eddb"
      },
      "execution_count": 210,
      "outputs": [
        {
          "output_type": "stream",
          "name": "stdout",
          "text": [
            "All minimum driving distances, should be approximately ≲50.0: \n",
            "[35.7167 58.9527 41.6493 33.2108 34.4654 52.3976 30.9149 30.8264 43.0503\n",
            " 35.6136 40.9898 51.8688]\n",
            "\n",
            "There may be some driving distances exceeding the limit of 50 km, \n",
            " this would not happen if all previous calculations were made with this distance\n"
          ]
        }
      ]
    },
    {
      "cell_type": "markdown",
      "source": [],
      "metadata": {
        "id": "beExUoyikR1d"
      }
    },
    {
      "cell_type": "markdown",
      "source": [
        "# 2. A more populated solution (execute previous cells first)"
      ],
      "metadata": {
        "id": "aL4FB7uyc9Zs"
      }
    },
    {
      "cell_type": "markdown",
      "source": [
        "Since the haversine distance approximation is better when dealing with smaller distances, the result for 50 km when comparing with driving distances is not that good. This is because 50 km represents a good portion of Granada's map (almost a 1/4 of the total length). We can do better by just reducing \"margin_factor\" to a smaller value, this will also increment the number of stations."
      ],
      "metadata": {
        "id": "caq9Qv3ZbAp3"
      }
    },
    {
      "cell_type": "code",
      "source": [
        "##### Copy-pasted code to better show the difference\n",
        "try_df = df.copy().sample(frac=1, random_state=44).reset_index(inplace=False,drop=True)\n",
        "distances = dist_matrix(try_df)\n",
        "\n",
        "i=j=0\n",
        "maxiter = len(distances)\n",
        "\n",
        "margin_factor = 0.7 ### The only change\n",
        "\n",
        "limit_radius = 50\n",
        "\n",
        "num_iters = 30\n",
        "\n",
        "limit = limit_radius*margin_factor\n",
        "\n",
        "for m in np.linspace(0.01, margin_factor, num=num_iters):\n",
        "  limit = m*limit_radius\n",
        "\n",
        "  i=j=0\n",
        "  maxiter = len(distances)\n",
        "  try_df.reset_index(inplace=True, drop=True)\n",
        "\n",
        "  while j < maxiter:\n",
        "    dist_mins = np.sort(distances[i])\n",
        "    if ( (dist_mins[1] + dist_mins[2]) < limit):\n",
        "      distances = np.delete(distances, i, axis=0)\n",
        "      distances = np.delete(distances, i, axis=1)\n",
        "      try_df.drop(j, inplace=True)\n",
        "    else:\n",
        "      i+=1\n",
        "    j+=1\n",
        "\n",
        "print(\"Resulting points: \", len(try_df.index))\n",
        "print(f\"All minimum haversine distances (strictly ≤{limit} km): \")\n",
        "print(np.sort(distances)[:,1])\n",
        "\n",
        "granada_map = map_show(try_df, loc_coords=[np.mean(try_df[\"lat\"]), np.mean(try_df[\"lon\"])])\n",
        "granada_map\n"
      ],
      "metadata": {
        "colab": {
          "base_uri": "https://localhost:8080/",
          "height": 677
        },
        "outputId": "63b00137-6914-441e-cc84-ab9d5387e98f",
        "id": "7wYsxJZvcFeJ"
      },
      "execution_count": 211,
      "outputs": [
        {
          "output_type": "stream",
          "name": "stdout",
          "text": [
            "Resulting points:  16\n",
            "All minimum haversine distances (strictly ≤35.0 km): \n",
            "[27.06892778 19.39725385 16.93675414 16.09983292 28.55163172 31.97401251\n",
            " 16.93675414 20.23132913 18.15976627 19.81635023 16.09983292 29.25886715\n",
            " 20.26921845 19.39725385 27.06892778 19.26542611]\n"
          ]
        },
        {
          "output_type": "execute_result",
          "data": {
            "text/plain": [
              "<folium.folium.Map at 0x7866bc3b65c0>"
            ],
            "text/html": [
              "<div style=\"width:100%;\"><div style=\"position:relative;width:100%;height:0;padding-bottom:60%;\"><span style=\"color:#565656\">Make this Notebook Trusted to load map: File -> Trust Notebook</span><iframe srcdoc=\"&lt;!DOCTYPE html&gt;\n",
              "&lt;html&gt;\n",
              "&lt;head&gt;\n",
              "    \n",
              "    &lt;meta http-equiv=&quot;content-type&quot; content=&quot;text/html; charset=UTF-8&quot; /&gt;\n",
              "    \n",
              "        &lt;script&gt;\n",
              "            L_NO_TOUCH = false;\n",
              "            L_DISABLE_3D = false;\n",
              "        &lt;/script&gt;\n",
              "    \n",
              "    &lt;style&gt;html, body {width: 100%;height: 100%;margin: 0;padding: 0;}&lt;/style&gt;\n",
              "    &lt;style&gt;#map {position:absolute;top:0;bottom:0;right:0;left:0;}&lt;/style&gt;\n",
              "    &lt;script src=&quot;https://cdn.jsdelivr.net/npm/leaflet@1.9.3/dist/leaflet.js&quot;&gt;&lt;/script&gt;\n",
              "    &lt;script src=&quot;https://code.jquery.com/jquery-1.12.4.min.js&quot;&gt;&lt;/script&gt;\n",
              "    &lt;script src=&quot;https://cdn.jsdelivr.net/npm/bootstrap@5.2.2/dist/js/bootstrap.bundle.min.js&quot;&gt;&lt;/script&gt;\n",
              "    &lt;script src=&quot;https://cdnjs.cloudflare.com/ajax/libs/Leaflet.awesome-markers/2.0.2/leaflet.awesome-markers.js&quot;&gt;&lt;/script&gt;\n",
              "    &lt;link rel=&quot;stylesheet&quot; href=&quot;https://cdn.jsdelivr.net/npm/leaflet@1.9.3/dist/leaflet.css&quot;/&gt;\n",
              "    &lt;link rel=&quot;stylesheet&quot; href=&quot;https://cdn.jsdelivr.net/npm/bootstrap@5.2.2/dist/css/bootstrap.min.css&quot;/&gt;\n",
              "    &lt;link rel=&quot;stylesheet&quot; href=&quot;https://netdna.bootstrapcdn.com/bootstrap/3.0.0/css/bootstrap.min.css&quot;/&gt;\n",
              "    &lt;link rel=&quot;stylesheet&quot; href=&quot;https://cdn.jsdelivr.net/npm/@fortawesome/fontawesome-free@6.2.0/css/all.min.css&quot;/&gt;\n",
              "    &lt;link rel=&quot;stylesheet&quot; href=&quot;https://cdnjs.cloudflare.com/ajax/libs/Leaflet.awesome-markers/2.0.2/leaflet.awesome-markers.css&quot;/&gt;\n",
              "    &lt;link rel=&quot;stylesheet&quot; href=&quot;https://cdn.jsdelivr.net/gh/python-visualization/folium/folium/templates/leaflet.awesome.rotate.min.css&quot;/&gt;\n",
              "    \n",
              "            &lt;meta name=&quot;viewport&quot; content=&quot;width=device-width,\n",
              "                initial-scale=1.0, maximum-scale=1.0, user-scalable=no&quot; /&gt;\n",
              "            &lt;style&gt;\n",
              "                #map_02bcf5d319982119398feffb4094c4da {\n",
              "                    position: relative;\n",
              "                    width: 100.0%;\n",
              "                    height: 100.0%;\n",
              "                    left: 0.0%;\n",
              "                    top: 0.0%;\n",
              "                }\n",
              "                .leaflet-container { font-size: 1rem; }\n",
              "            &lt;/style&gt;\n",
              "        \n",
              "&lt;/head&gt;\n",
              "&lt;body&gt;\n",
              "    \n",
              "    \n",
              "            &lt;div class=&quot;folium-map&quot; id=&quot;map_02bcf5d319982119398feffb4094c4da&quot; &gt;&lt;/div&gt;\n",
              "        \n",
              "&lt;/body&gt;\n",
              "&lt;script&gt;\n",
              "    \n",
              "    \n",
              "            var map_02bcf5d319982119398feffb4094c4da = L.map(\n",
              "                &quot;map_02bcf5d319982119398feffb4094c4da&quot;,\n",
              "                {\n",
              "                    center: [37.20873265, -3.2781013875],\n",
              "                    crs: L.CRS.EPSG3857,\n",
              "                    zoom: 8,\n",
              "                    zoomControl: true,\n",
              "                    preferCanvas: false,\n",
              "                }\n",
              "            );\n",
              "\n",
              "            \n",
              "\n",
              "        \n",
              "    \n",
              "            var tile_layer_0aab086caeedbd805b7d83617005c5c6 = L.tileLayer(\n",
              "                &quot;https://{s}.tile.openstreetmap.org/{z}/{x}/{y}.png&quot;,\n",
              "                {&quot;attribution&quot;: &quot;Data by \\u0026copy; \\u003ca target=\\&quot;_blank\\&quot; href=\\&quot;http://openstreetmap.org\\&quot;\\u003eOpenStreetMap\\u003c/a\\u003e, under \\u003ca target=\\&quot;_blank\\&quot; href=\\&quot;http://www.openstreetmap.org/copyright\\&quot;\\u003eODbL\\u003c/a\\u003e.&quot;, &quot;detectRetina&quot;: false, &quot;maxNativeZoom&quot;: 18, &quot;maxZoom&quot;: 18, &quot;minZoom&quot;: 0, &quot;noWrap&quot;: false, &quot;opacity&quot;: 1, &quot;subdomains&quot;: &quot;abc&quot;, &quot;tms&quot;: false}\n",
              "            ).addTo(map_02bcf5d319982119398feffb4094c4da);\n",
              "        \n",
              "    \n",
              "            var marker_c232f383a8a53b1aafecabfb05c9f5a5 = L.marker(\n",
              "                [37.18925, -2.954833],\n",
              "                {}\n",
              "            ).addTo(map_02bcf5d319982119398feffb4094c4da);\n",
              "        \n",
              "    \n",
              "        var popup_bc3fa0cc06b13a0a46909a33a9af3361 = L.popup({&quot;maxWidth&quot;: &quot;100%&quot;});\n",
              "\n",
              "        \n",
              "            \n",
              "                var html_4edfe4475b135f9fd8e0aeb13ae33b3f = $(`&lt;div id=&quot;html_4edfe4475b135f9fd8e0aeb13ae33b3f&quot; style=&quot;width: 100.0%; height: 100.0%;&quot;&gt;839483626&lt;/div&gt;`)[0];\n",
              "                popup_bc3fa0cc06b13a0a46909a33a9af3361.setContent(html_4edfe4475b135f9fd8e0aeb13ae33b3f);\n",
              "            \n",
              "        \n",
              "\n",
              "        marker_c232f383a8a53b1aafecabfb05c9f5a5.bindPopup(popup_bc3fa0cc06b13a0a46909a33a9af3361)\n",
              "        ;\n",
              "\n",
              "        \n",
              "    \n",
              "    \n",
              "            var marker_8b0227c4ef99241dd16114415fa24506 = L.marker(\n",
              "                [37.595778, -2.281028],\n",
              "                {}\n",
              "            ).addTo(map_02bcf5d319982119398feffb4094c4da);\n",
              "        \n",
              "    \n",
              "        var popup_32d5c92e355cdaf0fd36adf07812453e = L.popup({&quot;maxWidth&quot;: &quot;100%&quot;});\n",
              "\n",
              "        \n",
              "            \n",
              "                var html_e58747f8581d31a921b61442800e3e6f = $(`&lt;div id=&quot;html_e58747f8581d31a921b61442800e3e6f&quot; style=&quot;width: 100.0%; height: 100.0%;&quot;&gt;839488206&lt;/div&gt;`)[0];\n",
              "                popup_32d5c92e355cdaf0fd36adf07812453e.setContent(html_e58747f8581d31a921b61442800e3e6f);\n",
              "            \n",
              "        \n",
              "\n",
              "        marker_8b0227c4ef99241dd16114415fa24506.bindPopup(popup_32d5c92e355cdaf0fd36adf07812453e)\n",
              "        ;\n",
              "\n",
              "        \n",
              "    \n",
              "    \n",
              "            var marker_d5f9d1e6e9a319c021aefc0d11416746 = L.marker(\n",
              "                [36.7314636, -3.3576938],\n",
              "                {}\n",
              "            ).addTo(map_02bcf5d319982119398feffb4094c4da);\n",
              "        \n",
              "    \n",
              "        var popup_191b86db69e1a3be9c90293033af306d = L.popup({&quot;maxWidth&quot;: &quot;100%&quot;});\n",
              "\n",
              "        \n",
              "            \n",
              "                var html_6716ac8552104c2f5caa96afb209b39f = $(`&lt;div id=&quot;html_6716ac8552104c2f5caa96afb209b39f&quot; style=&quot;width: 100.0%; height: 100.0%;&quot;&gt;361439188&lt;/div&gt;`)[0];\n",
              "                popup_191b86db69e1a3be9c90293033af306d.setContent(html_6716ac8552104c2f5caa96afb209b39f);\n",
              "            \n",
              "        \n",
              "\n",
              "        marker_d5f9d1e6e9a319c021aefc0d11416746.bindPopup(popup_191b86db69e1a3be9c90293033af306d)\n",
              "        ;\n",
              "\n",
              "        \n",
              "    \n",
              "    \n",
              "            var marker_cb7ca96d559b8bd6e2d3c7172ef9af7c = L.marker(\n",
              "                [37.5298689, -3.6375848],\n",
              "                {}\n",
              "            ).addTo(map_02bcf5d319982119398feffb4094c4da);\n",
              "        \n",
              "    \n",
              "        var popup_853446cc2dba2a41a0b7732aa57a6568 = L.popup({&quot;maxWidth&quot;: &quot;100%&quot;});\n",
              "\n",
              "        \n",
              "            \n",
              "                var html_599b2189583066ccc232032a82d4f010 = $(`&lt;div id=&quot;html_599b2189583066ccc232032a82d4f010&quot; style=&quot;width: 100.0%; height: 100.0%;&quot;&gt;675359891&lt;/div&gt;`)[0];\n",
              "                popup_853446cc2dba2a41a0b7732aa57a6568.setContent(html_599b2189583066ccc232032a82d4f010);\n",
              "            \n",
              "        \n",
              "\n",
              "        marker_cb7ca96d559b8bd6e2d3c7172ef9af7c.bindPopup(popup_853446cc2dba2a41a0b7732aa57a6568)\n",
              "        ;\n",
              "\n",
              "        \n",
              "    \n",
              "    \n",
              "            var marker_72a1fc7b37224952e06c9e671a69d66d = L.marker(\n",
              "                [37.1800766, -3.9287927],\n",
              "                {}\n",
              "            ).addTo(map_02bcf5d319982119398feffb4094c4da);\n",
              "        \n",
              "    \n",
              "        var popup_1d644168c51f32aa59ed454966e06c2c = L.popup({&quot;maxWidth&quot;: &quot;100%&quot;});\n",
              "\n",
              "        \n",
              "            \n",
              "                var html_4e59fa678cd3e9776f1b91481003d7c7 = $(`&lt;div id=&quot;html_4e59fa678cd3e9776f1b91481003d7c7&quot; style=&quot;width: 100.0%; height: 100.0%;&quot;&gt;1118386708&lt;/div&gt;`)[0];\n",
              "                popup_1d644168c51f32aa59ed454966e06c2c.setContent(html_4e59fa678cd3e9776f1b91481003d7c7);\n",
              "            \n",
              "        \n",
              "\n",
              "        marker_72a1fc7b37224952e06c9e671a69d66d.bindPopup(popup_1d644168c51f32aa59ed454966e06c2c)\n",
              "        ;\n",
              "\n",
              "        \n",
              "    \n",
              "    \n",
              "            var marker_9f4949fce92282ff45374c48da3f8b07 = L.marker(\n",
              "                [37.133278, -4.284778],\n",
              "                {}\n",
              "            ).addTo(map_02bcf5d319982119398feffb4094c4da);\n",
              "        \n",
              "    \n",
              "        var popup_3836190a9c3bbb04b75ce0f6ea06af39 = L.popup({&quot;maxWidth&quot;: &quot;100%&quot;});\n",
              "\n",
              "        \n",
              "            \n",
              "                var html_9940bfe1f42a088f63248c1138267e83 = $(`&lt;div id=&quot;html_9940bfe1f42a088f63248c1138267e83&quot; style=&quot;width: 100.0%; height: 100.0%;&quot;&gt;839480079&lt;/div&gt;`)[0];\n",
              "                popup_3836190a9c3bbb04b75ce0f6ea06af39.setContent(html_9940bfe1f42a088f63248c1138267e83);\n",
              "            \n",
              "        \n",
              "\n",
              "        marker_9f4949fce92282ff45374c48da3f8b07.bindPopup(popup_3836190a9c3bbb04b75ce0f6ea06af39)\n",
              "        ;\n",
              "\n",
              "        \n",
              "    \n",
              "    \n",
              "            var marker_f165c6b4226bb02a5251224243bcb61b = L.marker(\n",
              "                [36.751965, -3.169347],\n",
              "                {}\n",
              "            ).addTo(map_02bcf5d319982119398feffb4094c4da);\n",
              "        \n",
              "    \n",
              "        var popup_af8b836f2b84c8f7d3ed81516c96eb62 = L.popup({&quot;maxWidth&quot;: &quot;100%&quot;});\n",
              "\n",
              "        \n",
              "            \n",
              "                var html_97d3de24d60fec92a2a65a41c31946b2 = $(`&lt;div id=&quot;html_97d3de24d60fec92a2a65a41c31946b2&quot; style=&quot;width: 100.0%; height: 100.0%;&quot;&gt;4638171093&lt;/div&gt;`)[0];\n",
              "                popup_af8b836f2b84c8f7d3ed81516c96eb62.setContent(html_97d3de24d60fec92a2a65a41c31946b2);\n",
              "            \n",
              "        \n",
              "\n",
              "        marker_f165c6b4226bb02a5251224243bcb61b.bindPopup(popup_af8b836f2b84c8f7d3ed81516c96eb62)\n",
              "        ;\n",
              "\n",
              "        \n",
              "    \n",
              "    \n",
              "            var marker_92e7326aa1db52ab90c0b82d733c51f2 = L.marker(\n",
              "                [36.7365569, -3.7388495],\n",
              "                {}\n",
              "            ).addTo(map_02bcf5d319982119398feffb4094c4da);\n",
              "        \n",
              "    \n",
              "        var popup_d16b928af69294d209c116f687ee0003 = L.popup({&quot;maxWidth&quot;: &quot;100%&quot;});\n",
              "\n",
              "        \n",
              "            \n",
              "                var html_9d66f79d9186a18f6c09360cda10a4a8 = $(`&lt;div id=&quot;html_9d66f79d9186a18f6c09360cda10a4a8&quot; style=&quot;width: 100.0%; height: 100.0%;&quot;&gt;287009129&lt;/div&gt;`)[0];\n",
              "                popup_d16b928af69294d209c116f687ee0003.setContent(html_9d66f79d9186a18f6c09360cda10a4a8);\n",
              "            \n",
              "        \n",
              "\n",
              "        marker_92e7326aa1db52ab90c0b82d733c51f2.bindPopup(popup_d16b928af69294d209c116f687ee0003)\n",
              "        ;\n",
              "\n",
              "        \n",
              "    \n",
              "    \n",
              "            var marker_8b36a5cb5378925ecf6e9d818d1b42dc = L.marker(\n",
              "                [36.8142438, -3.5334464],\n",
              "                {}\n",
              "            ).addTo(map_02bcf5d319982119398feffb4094c4da);\n",
              "        \n",
              "    \n",
              "        var popup_e36dada9953db264b6c98302a8e363a1 = L.popup({&quot;maxWidth&quot;: &quot;100%&quot;});\n",
              "\n",
              "        \n",
              "            \n",
              "                var html_775c50163ad75e3d6481736ee76154e1 = $(`&lt;div id=&quot;html_775c50163ad75e3d6481736ee76154e1&quot; style=&quot;width: 100.0%; height: 100.0%;&quot;&gt;287008531&lt;/div&gt;`)[0];\n",
              "                popup_e36dada9953db264b6c98302a8e363a1.setContent(html_775c50163ad75e3d6481736ee76154e1);\n",
              "            \n",
              "        \n",
              "\n",
              "        marker_8b36a5cb5378925ecf6e9d818d1b42dc.bindPopup(popup_e36dada9953db264b6c98302a8e363a1)\n",
              "        ;\n",
              "\n",
              "        \n",
              "    \n",
              "    \n",
              "            var marker_8a72763f653f998382a8fa1d14098d6f = L.marker(\n",
              "                [37.0891016, -3.6276028],\n",
              "                {}\n",
              "            ).addTo(map_02bcf5d319982119398feffb4094c4da);\n",
              "        \n",
              "    \n",
              "        var popup_cd57cb360463e77c9860bb50790a2a23 = L.popup({&quot;maxWidth&quot;: &quot;100%&quot;});\n",
              "\n",
              "        \n",
              "            \n",
              "                var html_c97af42d6a1b872cfd91c39dc6061ecb = $(`&lt;div id=&quot;html_c97af42d6a1b872cfd91c39dc6061ecb&quot; style=&quot;width: 100.0%; height: 100.0%;&quot;&gt;331481372&lt;/div&gt;`)[0];\n",
              "                popup_cd57cb360463e77c9860bb50790a2a23.setContent(html_c97af42d6a1b872cfd91c39dc6061ecb);\n",
              "            \n",
              "        \n",
              "\n",
              "        marker_8a72763f653f998382a8fa1d14098d6f.bindPopup(popup_cd57cb360463e77c9860bb50790a2a23)\n",
              "        ;\n",
              "\n",
              "        \n",
              "    \n",
              "    \n",
              "            var marker_5378c8db01edc7c39c4649b879ee2ab0 = L.marker(\n",
              "                [37.4010596, -3.5542785],\n",
              "                {}\n",
              "            ).addTo(map_02bcf5d319982119398feffb4094c4da);\n",
              "        \n",
              "    \n",
              "        var popup_2ba37fca5cd8963538f2e0addb8d61e0 = L.popup({&quot;maxWidth&quot;: &quot;100%&quot;});\n",
              "\n",
              "        \n",
              "            \n",
              "                var html_4f1142d8a6ebd53ad2da78d3d760d198 = $(`&lt;div id=&quot;html_4f1142d8a6ebd53ad2da78d3d760d198&quot; style=&quot;width: 100.0%; height: 100.0%;&quot;&gt;674382465&lt;/div&gt;`)[0];\n",
              "                popup_2ba37fca5cd8963538f2e0addb8d61e0.setContent(html_4f1142d8a6ebd53ad2da78d3d760d198);\n",
              "            \n",
              "        \n",
              "\n",
              "        marker_5378c8db01edc7c39c4649b879ee2ab0.bindPopup(popup_2ba37fca5cd8963538f2e0addb8d61e0)\n",
              "        ;\n",
              "\n",
              "        \n",
              "    \n",
              "    \n",
              "            var marker_623a6bc7b65763a60229a2a05211ae52 = L.marker(\n",
              "                [37.5542042, -2.6088616],\n",
              "                {}\n",
              "            ).addTo(map_02bcf5d319982119398feffb4094c4da);\n",
              "        \n",
              "    \n",
              "        var popup_a7faa1744006f0fb1f20b6e037047f64 = L.popup({&quot;maxWidth&quot;: &quot;100%&quot;});\n",
              "\n",
              "        \n",
              "            \n",
              "                var html_fc5fd9198318ea2dfcf8b3417d95b90d = $(`&lt;div id=&quot;html_fc5fd9198318ea2dfcf8b3417d95b90d&quot; style=&quot;width: 100.0%; height: 100.0%;&quot;&gt;903008479&lt;/div&gt;`)[0];\n",
              "                popup_a7faa1744006f0fb1f20b6e037047f64.setContent(html_fc5fd9198318ea2dfcf8b3417d95b90d);\n",
              "            \n",
              "        \n",
              "\n",
              "        marker_623a6bc7b65763a60229a2a05211ae52.bindPopup(popup_a7faa1744006f0fb1f20b6e037047f64)\n",
              "        ;\n",
              "\n",
              "        \n",
              "    \n",
              "    \n",
              "            var marker_3917a2e11d0c325b562072f2f38803ca = L.marker(\n",
              "                [37.3224461, -3.2969549],\n",
              "                {}\n",
              "            ).addTo(map_02bcf5d319982119398feffb4094c4da);\n",
              "        \n",
              "    \n",
              "        var popup_feaea06fff260dbf8cc4690cd5b18142 = L.popup({&quot;maxWidth&quot;: &quot;100%&quot;});\n",
              "\n",
              "        \n",
              "            \n",
              "                var html_9711751454a6b0c3dcaaa4617ffd9ade = $(`&lt;div id=&quot;html_9711751454a6b0c3dcaaa4617ffd9ade&quot; style=&quot;width: 100.0%; height: 100.0%;&quot;&gt;287008820&lt;/div&gt;`)[0];\n",
              "                popup_feaea06fff260dbf8cc4690cd5b18142.setContent(html_9711751454a6b0c3dcaaa4617ffd9ade);\n",
              "            \n",
              "        \n",
              "\n",
              "        marker_3917a2e11d0c325b562072f2f38803ca.bindPopup(popup_feaea06fff260dbf8cc4690cd5b18142)\n",
              "        ;\n",
              "\n",
              "        \n",
              "    \n",
              "    \n",
              "            var marker_c52d2a3d8d587ff666d0da073aca0035 = L.marker(\n",
              "                [37.64675, -2.0704],\n",
              "                {}\n",
              "            ).addTo(map_02bcf5d319982119398feffb4094c4da);\n",
              "        \n",
              "    \n",
              "        var popup_4ebd4d193620a83c5722eaa178649b9c = L.popup({&quot;maxWidth&quot;: &quot;100%&quot;});\n",
              "\n",
              "        \n",
              "            \n",
              "                var html_e3c9def8a71961d727bf83bcf0988740 = $(`&lt;div id=&quot;html_e3c9def8a71961d727bf83bcf0988740&quot; style=&quot;width: 100.0%; height: 100.0%;&quot;&gt;287007285&lt;/div&gt;`)[0];\n",
              "                popup_4ebd4d193620a83c5722eaa178649b9c.setContent(html_e3c9def8a71961d727bf83bcf0988740);\n",
              "            \n",
              "        \n",
              "\n",
              "        marker_c52d2a3d8d587ff666d0da073aca0035.bindPopup(popup_4ebd4d193620a83c5722eaa178649b9c)\n",
              "        ;\n",
              "\n",
              "        \n",
              "    \n",
              "    \n",
              "            var marker_0a45accf60057cdbc6de1d59b045b33d = L.marker(\n",
              "                [37.42982, -2.9080004],\n",
              "                {}\n",
              "            ).addTo(map_02bcf5d319982119398feffb4094c4da);\n",
              "        \n",
              "    \n",
              "        var popup_c4823c4aa1cf863f654ec5e86da0d003 = L.popup({&quot;maxWidth&quot;: &quot;100%&quot;});\n",
              "\n",
              "        \n",
              "            \n",
              "                var html_91be28638b5463e8d2f5013c941bbba7 = $(`&lt;div id=&quot;html_91be28638b5463e8d2f5013c941bbba7&quot; style=&quot;width: 100.0%; height: 100.0%;&quot;&gt;6451544730&lt;/div&gt;`)[0];\n",
              "                popup_c4823c4aa1cf863f654ec5e86da0d003.setContent(html_91be28638b5463e8d2f5013c941bbba7);\n",
              "            \n",
              "        \n",
              "\n",
              "        marker_0a45accf60057cdbc6de1d59b045b33d.bindPopup(popup_c4823c4aa1cf863f654ec5e86da0d003)\n",
              "        ;\n",
              "\n",
              "        \n",
              "    \n",
              "    \n",
              "            var marker_e250cce257dea964a62b1f4d0a5be411 = L.marker(\n",
              "                [37.2338601, -3.4971708],\n",
              "                {}\n",
              "            ).addTo(map_02bcf5d319982119398feffb4094c4da);\n",
              "        \n",
              "    \n",
              "        var popup_a0ca70d6d40c30a89f1492ffaf127857 = L.popup({&quot;maxWidth&quot;: &quot;100%&quot;});\n",
              "\n",
              "        \n",
              "            \n",
              "                var html_3ae0ad87226e24f2e35e60653c8df375 = $(`&lt;div id=&quot;html_3ae0ad87226e24f2e35e60653c8df375&quot; style=&quot;width: 100.0%; height: 100.0%;&quot;&gt;238797673&lt;/div&gt;`)[0];\n",
              "                popup_a0ca70d6d40c30a89f1492ffaf127857.setContent(html_3ae0ad87226e24f2e35e60653c8df375);\n",
              "            \n",
              "        \n",
              "\n",
              "        marker_e250cce257dea964a62b1f4d0a5be411.bindPopup(popup_a0ca70d6d40c30a89f1492ffaf127857)\n",
              "        ;\n",
              "\n",
              "        \n",
              "    \n",
              "&lt;/script&gt;\n",
              "&lt;/html&gt;\" style=\"position:absolute;width:100%;height:100%;left:0;top:0;border:none !important;\" allowfullscreen webkitallowfullscreen mozallowfullscreen></iframe></div></div>"
            ]
          },
          "metadata": {},
          "execution_count": 211
        }
      ]
    },
    {
      "cell_type": "code",
      "source": [
        "url = \"http://router.project-osrm.org/table/v1/driving/\"\n",
        "routes = \"\"\n",
        "\n",
        "for ind in try_df.index:\n",
        "    routes += str(try_df[\"lon\"][ind])+\",\"+str(try_df[\"lat\"][ind])+\";\"\n",
        "\n",
        "routes = routes[:-1]\n",
        "\n",
        "print(\"Query:\", routes[0:50]+\"... \\n\")\n",
        "routes_response = requests.get(url+routes+\"?annotations=distance\")\n",
        "\n",
        "dist_table_json = routes_response.json()\n",
        "try:\n",
        "    dist_table=np.array(dist_table_json[\"distances\"])/1000\n",
        "except:\n",
        "    print(\"Too big\")\n",
        "\n",
        "print(f\"All minimum driving distances, should be approximately ≲{limit}: \",)\n",
        "print(np.sort(dist_table)[:,1])\n",
        "print(\"\\nThere may be some driving distances exceeding the limit of \"\n",
        "      + f\"{limit_radius} km, \\n\"\n",
        "      + \" this would not happen if all previous calculations were made with\"\n",
        "      + \" this distance\")"
      ],
      "metadata": {
        "colab": {
          "base_uri": "https://localhost:8080/"
        },
        "id": "ZumDfev-cQBX",
        "outputId": "26c6464f-9a5b-4822-ccd7-a6cadc0984c4"
      },
      "execution_count": 212,
      "outputs": [
        {
          "output_type": "stream",
          "name": "stdout",
          "text": [
            "Query: -2.9548330,37.1892500;-2.2810280,37.5957780;-3.357... \n",
            "\n",
            "All minimum driving distances, should be approximately ≲35.0: \n",
            "[41.2656 21.5768 20.2683 20.8804 39.9136 35.3761 20.2824 30.9149 30.8264\n",
            " 35.7634 21.1499 30.706  23.6532 21.7719 32.8603 23.5717]\n",
            "\n",
            "There may be some driving distances exceeding the limit of 50 km, \n",
            " this would not happen if all previous calculations were made with this distance\n"
          ]
        }
      ]
    },
    {
      "cell_type": "markdown",
      "source": [
        "Now everything checks out, and we have something that could be a network of electric car charging stations"
      ],
      "metadata": {
        "id": "UFYmx_yLccAx"
      }
    },
    {
      "cell_type": "markdown",
      "source": [
        "# 3. Further improvements"
      ],
      "metadata": {
        "id": "n8oGzUmNm6tK"
      }
    },
    {
      "cell_type": "markdown",
      "source": [
        "\n",
        "\n",
        "1.   Using driving distance, would make better minimal solutions\n",
        "2.   Apply more constraints depending on desired result\n",
        "\n"
      ],
      "metadata": {
        "id": "TcTVooxFnBMQ"
      }
    }
  ]
}